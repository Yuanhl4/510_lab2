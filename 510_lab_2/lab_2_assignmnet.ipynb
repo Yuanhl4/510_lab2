{
 "cells": [
  {
   "cell_type": "code",
   "execution_count": 1,
   "metadata": {},
   "outputs": [
    {
     "name": "stdout",
     "output_type": "stream",
     "text": [
      "['https://visitseattle.org/things-to-do/events/', 'https://visitseattle.org/things-to-do/events/festivals/', 'https://visitseattle.org/things-to-do/events/submit-your-event/', 'https://visitseattle.org/events/community-is-a-radical-act-of-love/', 'https://visitseattle.org/events/seattle-kraken-vs-detroit-red-wings/', 'https://visitseattle.org/events/the-thrifted/', 'https://visitseattle.org/events/black-and-boujee/', 'https://visitseattle.org/events/from-mozart-to-matthews/', 'https://visitseattle.org/events/lukas-nelson/', 'https://www.showboxpresents.com/events/detail/517112', 'https://visitseattle.org/events/mahogany-smartfilms-black-luxury/', 'https://visitseattle.org/events/robots-who-paint/', 'https://visitseattle.org/events/trask/', 'https://visitseattle.org/events/page/2/?frm=events&s', 'https://visitseattle.org/events/page/3/?frm=events&s', 'https://visitseattle.org/events/page/4/?frm=events&s', 'https://visitseattle.org/events/page/5/?frm=events&s', 'https://visitseattle.org/events/page/45/?frm=events&s', 'https://visitseattle.org/events/wu-han-philip-setzer-david-finckel/', 'https://visitseattle.org/events/the-cookers/', 'https://visitseattle.org/events/a-i-m-by-kyle-abraham/', 'https://visitseattle.org/events/cesar-cuauhtemoc-garcia-hernandez/', 'https://visitseattle.org/events/side-by-side-with-seattle-youth-symphony-orchestra/', 'https://visitseattle.org/events/bailen/', 'https://visitseattle.org/events/dr-charan-ranganath/', 'https://visitseattle.org/events/jack-parker/', 'https://visitseattle.org/events/mountain-holler/', 'https://visitseattle.org/events/?frm=events&s', 'https://visitseattle.org/events/northwest-blues-stars/', 'https://www.thetripledoor.net/go/events/5349560?feature_id=923529&occurrence_id=662974528&popup=1', 'https://visitseattle.org/events/seattle-kraken-vs-vancouver-canucks/', 'https://visitseattle.org/events/shabaka/', 'https://visitseattle.org/events/funky-friday-with-f2d/', 'https://visitseattle.org/events/blackstar-symphony-the-music-of-david-bowie/', 'https://visitseattle.org/events/caligulas-horse/', 'https://visitseattle.org/events/lisa-koch-big-ass-birthday-bash/', 'https://www.thetripledoor.net/go/events/5274803?feature_id=923529&occurrence_id=654620003&popup=1', 'https://visitseattle.org/events/opera-talk-the-making-of-x/', 'https://visitseattle.org/events/tikkadoom-and-nick-drummond/', 'https://visitseattle.org/events/wreckno/', 'https://www.showboxpresents.com/events/detail/520540', 'https://visitseattle.org/events/kelly-akashi/', 'https://visitseattle.org/events/the-lower-depths/', 'https://visitseattle.org/events/bassekou-kouyate-and-vieux-farka-toure/', 'https://visitseattle.org/events/bassekou-kouyate-and-vieux-farka-toure-2/', 'https://visitseattle.org/events/crystal-skies/', 'https://nectarlounge.com/events/calendar/', 'https://visitseattle.org/events/dan-brown-wild-symphony/', 'https://visitseattle.org/events/dana-gould-and-bobcat-goldthwait/', 'https://www.thetripledoor.net/go/events/5274887?feature_id=923529&occurrence_id=654620125&popup=1', 'https://visitseattle.org/events/knoll/', 'https://visitseattle.org/events/page/6/?frm=events&s', 'https://visitseattle.org/events/nate-jackson/', 'https://visitseattle.org/events/pink-sweat/', 'https://www.showboxpresents.com/events/detail/510837', 'https://visitseattle.org/events/root-and-branch/', 'https://visitseattle.org/events/seattle-kraken-vs-minnesota-wild/', 'https://visitseattle.org/events/small-island-big-song/', 'https://visitseattle.org/events/the-highsteppers-classic-soul-revue/', 'https://visitseattle.org/events/tides-of-times-a-conversation-on-maritime-asia-in-art-and-trade/', 'https://visitseattle.org/events/born-with-teeth/', 'https://www.artswest.org/events/born-with-teeth/', 'https://visitseattle.org/events/sam-gallery-presents-enter-the-forest/', 'https://visitseattle.org/events/page/7/?frm=events&s', 'https://visitseattle.org/events/once-more-just-for-you/', 'https://visitseattle.org/events/seattle-home-garden-show/', 'https://visitseattle.org/events/wintergrass-music-festival/', 'https://visitseattle.org/events/klezmer-starts-here-the-music-of-abe-schwartz/', 'https://visitseattle.org/events/telling-the-story/', 'https://visitseattle.org/events/cherry-glazerr/', 'https://www.neumos.com/events/detail/cherry-glazerr-tickets-504787', 'https://visitseattle.org/events/dick-angel-dare-to-do-it/', 'https://visitseattle.org/events/seattle-kraken-vs-boston-bruins/', 'https://visitseattle.org/events/hunt-for-sleeping-giants-national-geographic-live/', 'https://visitseattle.org/events/page/8/?frm=events&s', 'https://visitseattle.org/events/big-tooth/', 'https://visitseattle.org/events/eric-klinenberg/', 'https://visitseattle.org/events/fresh-dressed-smartfilms-black-luxury/', 'https://visitseattle.org/events/joy-harjo/', 'https://visitseattle.org/events/kelsy-karter-and-the-heroines/', 'https://visitseattle.org/events/ron-pope/', 'https://www.thetripledoor.net/go/events/5266755?feature_id=923529&occurrence_id=653760454&popup=1', 'https://visitseattle.org/events/anand-gopal/', 'https://visitseattle.org/events/dianne-reeves/', 'https://visitseattle.org/events/he-films-the-clouds/', 'https://visitseattle.org/events/page/9/?frm=events&s', 'https://visitseattle.org/events/kassa-overall/', 'https://visitseattle.org/events/playboi-carti/', 'https://visitseattle.org/events/tommy-castro-and-the-painkillers/', 'https://www.thetripledoor.net/go/events/5257551?feature_id=923529&occurrence_id=652770883&popup=1', 'https://visitseattle.org/events/winter-brilliance/', 'https://visitseattle.org/events/seattle-museum-month/', 'https://visitseattle.org/events/corey-harris-and-cedric-watson/', 'https://visitseattle.org/events/jna-and-tavia-rhodes/', 'https://visitseattle.org/events/julian-lage/', 'https://visitseattle.org/events/marchfourth/', 'https://visitseattle.org/events/page/10/?frm=events&s', 'https://visitseattle.org/events/quilts/', 'https://visitseattle.org/events/seattle-kraken-vs-pittsburgh-penguins/', 'https://visitseattle.org/events/the-human-family/', 'https://visitseattle.org/events/conjuring-up-monsterz/', 'https://visitseattle.org/events/enjambre/', 'https://visitseattle.org/events/fall-out-boy/', 'https://visitseattle.org/events/global-rhythms-justin-adams-and-mauro-durante/', 'https://visitseattle.org/events/sloane-crosley-with-ben-gibbard/', 'https://visitseattle.org/events/supernova/', 'https://www.thetripledoor.net/go/events/5342516?feature_id=923529&occurrence_id=662095986&popup=1', 'https://visitseattle.org/events/page/11/?frm=events&s', 'https://visitseattle.org/events/tacoma-stars-vs-harrisburg-heat/', 'https://visitseattle.org/events/tommy-emmanuel/', 'https://visitseattle.org/events/facades/', 'https://visitseattle.org/events/conrad-taos-playlist/', 'https://visitseattle.org/events/superfolk-festival/', 'https://visitseattle.org/events/brian-culbertson/', 'https://visitseattle.org/events/crypta/', 'https://visitseattle.org/events/not-fade-away-a-tribute-to-buddy-holly/', 'https://www.thetripledoor.net/go/events/5323796?feature_id=923529&occurrence_id=659964396&popup=1', 'https://visitseattle.org/events/seattle-kraken-vs-edmonton-oilers/', 'https://visitseattle.org/events/page/12/?frm=events&s', 'https://visitseattle.org/events/seattle-sounders-fc-vs-austin-fc/', 'https://visitseattle.org/events/emerald-city-comic-con/', 'https://visitseattle.org/events/freakout-weekender/', 'https://visitseattle.org/events/alexperience/', 'https://visitseattle.org/events/barbara-mcquade-with-jenny-durkan/', 'https://visitseattle.org/events/briscoe/', 'https://visitseattle.org/events/david-nihill/', 'https://visitseattle.org/events/jim-knapp-orchestra/', 'https://visitseattle.org/events/meow-meow/', 'https://www.thetripledoor.net/go/events/5276120?feature_id=923529&occurrence_id=654743664&popup=1', 'https://visitseattle.org/events/page/13/?frm=events&s', 'https://visitseattle.org/events/tacoma-stars-vs-harrisburg-heat-2/', 'https://visitseattle.org/events/back-to-black-the-amy-winehouse-experience/', 'https://visitseattle.org/events/dr-rajiv-shah/', 'https://visitseattle.org/events/empty-graves/', 'https://visitseattle.org/events/evan-dando-of-the-lemonheads/', 'https://www.thetripledoor.net/go/events/5329701?feature_id=923529&occurrence_id=660591598&popup=1', 'https://visitseattle.org/events/eves-bayou-smartfilms-black-luxury/', 'https://visitseattle.org/events/frond/', 'https://visitseattle.org/events/marc-e-bassy/', 'https://www.neumos.com/events/detail/marc-e-bassy-tickets-529260', 'https://visitseattle.org/events/maria-jose-llergo/', 'https://www.thetripledoor.net/go/events/5353822?feature_id=923529&occurrence_id=663352096&popup=1', 'https://visitseattle.org/events/page/14/?frm=events&s', 'https://visitseattle.org/events/shawn-phillips/', 'https://visitseattle.org/events/atlus/', 'https://visitseattle.org/events/critical-mass-big-band/', 'https://visitseattle.org/events/rick-estrin-and-the-nightcats/', 'https://www.thetripledoor.net/go/events/5257558?feature_id=923529&occurrence_id=652770890&popup=1', 'https://visitseattle.org/events/theresa-caputo-live/', 'https://visitseattle.org/events/calidore-quartet-abeo-quartet/', 'https://visitseattle.org/events/debut/', 'https://www.thebarboza.com/events/detail/debut-feat-liv-victorino-la-fonda-tickets-528293', 'https://visitseattle.org/events/holding-movement/', 'https://visitseattle.org/events/international-womens-day-live-sessions-concert/', 'https://visitseattle.org/events/page/15/?frm=events&s', 'https://visitseattle.org/events/karla-bonoff/', 'https://www.thetripledoor.net/go/events/5349567?feature_id=923529&occurrence_id=662974535&popup=1', 'https://visitseattle.org/events/seattle-kraken-vs-winnipeg-jets/', 'https://visitseattle.org/events/xthe-life-and-times-of-malcolm-x/', 'https://visitseattle.org/events/bach-st-john-passion/', 'https://visitseattle.org/events/ariel-pink/', 'https://visitseattle.org/events/coco-montoya/', 'https://visitseattle.org/events/helene-grimaud/', 'https://visitseattle.org/events/josiah-and-the-bonnevilles/', 'https://www.thebarboza.com/events/detail/josiah-and-the-bonnevilles-tickets-504776', 'https://visitseattle.org/events/mahan-esfahan/', 'https://visitseattle.org/events/page/16/?frm=events&s', 'https://visitseattle.org/events/positive-fragmentation/', 'https://visitseattle.org/events/antonio-m-gomez-lineajes/', 'https://visitseattle.org/events/soren-solkaer-sort-sol/', 'https://visitseattle.org/events/luchadora/', 'https://visitseattle.org/events/earshot-golden-ear-awards-party-jun-iida/', 'https://visitseattle.org/events/sasha-lapointe/', 'https://visitseattle.org/events/wild-cats-revealed-national-geographic-live/', 'https://visitseattle.org/events/seattle-kraken-vs-vegas-golden-knights/', 'https://visitseattle.org/events/special-efx-all-stars/', 'https://www.thetripledoor.net/go/events/5343861?feature_id=923529&occurrence_id=662222019&popup=1', 'https://visitseattle.org/events/page/17/?frm=events&s', 'https://visitseattle.org/events/cody-bartels/', 'https://visitseattle.org/events/kendra-morris/', 'https://visitseattle.org/events/my-dinner-with-sam/', 'https://visitseattle.org/events/seattle-kraken-vs-washington-capitals/', 'https://visitseattle.org/events/taste-washington-pacific-standard/', 'https://visitseattle.org/events/autoheart/', 'https://visitseattle.org/events/goose-vargis/', 'https://visitseattle.org/events/taste-washington-the-new-vintage/', 'https://visitseattle.org/events/the-snuts/', 'https://www.thebarboza.com/events/detail/the-snuts-tickets-516622', 'https://visitseattle.org/events/page/18/?frm=events&s', 'https://visitseattle.org/events/mark-morris-dance-group-the-look-of-love/', 'https://visitseattle.org/events/sibelius-nielsen/', 'https://visitseattle.org/events/tacoma-stars-vs-chihuahua-savage/', 'https://visitseattle.org/events/matt-hansen/', 'https://www.thebarboza.com/events/detail/matt-hansen-tickets-509727', 'https://visitseattle.org/events/seattle-kraken-vs-nashville-predators/', 'https://visitseattle.org/events/seattle-sounders-fc-vs-colorado-rapids/', 'https://visitseattle.org/events/taste-washington-the-seminars/', 'https://visitseattle.org/events/native-portraiture-power-and-perception/', 'https://visitseattle.org/events/places-to-call-home-settlements-in-the-west/', 'https://visitseattle.org/events/page/19/?frm=events&s', 'https://visitseattle.org/events/nobody-lives-here/', 'https://visitseattle.org/events/seattle-jewish-film-festival/', 'https://visitseattle.org/events/rootabaga-country/', 'https://visitseattle.org/events/festal-irish-festival-seattle/', 'https://visitseattle.org/events/taste-washington-the-grand-tasting/', 'https://visitseattle.org/events/bas/', 'https://www.neumos.com/events/detail/bas-tickets-525889', 'https://visitseattle.org/events/brad-parsons/', 'https://visitseattle.org/events/68/', 'https://visitseattle.org/events/jimmy-chamberlin-complex/', 'https://www.neumos.com/events/detail/jimmy-chamberlin-complex-tickets-527080', 'https://visitseattle.org/events/page/20/?frm=events&s', 'https://visitseattle.org/events/seattle-kraken-vs-buffalo-sabres/', 'https://visitseattle.org/events/taste-washington-no-frills/', 'https://visitseattle.org/events/darkest-hour/', 'https://visitseattle.org/events/dragontail-peak/', 'https://visitseattle.org/events/el-perro-del-mar/', 'https://www.thebarboza.com/events/detail/el-perro-del-mar-tickets-519729', 'https://visitseattle.org/events/combichrist/', 'https://visitseattle.org/events/jon-vinyl/', 'https://www.thebarboza.com/events/detail/jon-vinyl-tickets-519158', 'https://visitseattle.org/events/mayuan-poet/', 'https://www.neumos.com/events/detail/mayuan-poet-tickets-526913', 'https://visitseattle.org/events/the-forensic-archive-of-landscapes-paloma-contreras-lomas/', 'https://visitseattle.org/events/page/21/?frm=events&s', 'https://visitseattle.org/events/flyana-boss/', 'https://www.thebarboza.com/events/detail/flyana-boss-tickets-510381', 'https://visitseattle.org/events/glass-beach/', 'https://www.neumos.com/events/detail/glass-beach-tickets-511870', 'https://visitseattle.org/events/taste-washington-dinner-series/', 'https://visitseattle.org/events/jennifer-hartswick-band/', 'https://visitseattle.org/events/monster-energy-ama-supercross/', 'https://www.lumenfield.com/events/supercross-2024', 'https://visitseattle.org/events/tacoma-stars-vs-empire-strykers/', 'https://visitseattle.org/events/somethings-afoot/', 'https://visitseattle.org/events/one-thousand-pieces/', 'https://visitseattle.org/events/simon-trpceski-plays-tchaikovsky/', 'https://visitseattle.org/events/page/22/?frm=events&s', 'https://visitseattle.org/events/celebrate-holi-spring-festival-of-colors-from-south-asia/', 'https://visitseattle.org/events/festal-seattles-french-fest/', 'https://visitseattle.org/events/seattle-kraken-vs-montreal-canadiens/', 'https://visitseattle.org/events/jonah-kagen/', 'https://www.thebarboza.com/events/detail/jonah-kagen-tickets-519200', 'https://visitseattle.org/events/kim-dracula/', 'https://www.neumos.com/events/detail/kim-dracula-tickets-526083', 'https://visitseattle.org/events/seattle-kraken-vs-anaheim-ducks/', 'https://visitseattle.org/events/seattle-kraken-vs-anaheim-ducks-2/', 'https://visitseattle.org/events/dj-dan-with-max-gain/', 'https://visitseattle.org/events/sam-remix/', 'https://visitseattle.org/events/page/23/?frm=events&s', 'https://visitseattle.org/events/tim-mcgraw/', 'https://visitseattle.org/events/harold-and-the-purple-crayon/', 'https://visitseattle.org/events/monster-jam/', 'https://www.lumenfield.com/events/monster-jam', 'https://visitseattle.org/events/seattle-kraken-vs-dallas-stars/', 'https://visitseattle.org/events/illuminate-glass-art-for-early-learners/', 'https://visitseattle.org/events/al-youngs-1970-dodge-challenger-drag-racer/', 'https://visitseattle.org/events/shine-on-seattle/', 'https://visitseattle.org/events/exhibition-tour-calder/', 'https://visitseattle.org/events/public-tour-highlights-from-sams-collection/', 'https://visitseattle.org/events/page/24/?frm=events&s', 'https://visitseattle.org/events/public-tour-journeys-through-time-and-space/', 'https://visitseattle.org/events/sanctuary-city/', 'https://visitseattle.org/events/stew/', 'https://visitseattle.org/events/sakura-con-2024/', 'https://visitseattle.org/events/joey-harkum/', 'https://visitseattle.org/events/luis-miguel/', 'https://visitseattle.org/events/taylor-raven-and-duke-kim-in-recital/', 'https://visitseattle.org/events/jo-koy/', 'https://visitseattle.org/events/copland-appalachian-spring/', 'https://visitseattle.org/events/page/25/?frm=events&s', 'https://visitseattle.org/events/red-bull-lords-of-floor/', 'https://www.lumenfield.com/events/red-bull-lords-of-the-floor-2024', 'https://visitseattle.org/events/seattle-sounders-fc-vs-cf-montreal/', 'https://visitseattle.org/events/tom-segura/', 'https://visitseattle.org/events/la-vaughn-belle-a-history-of-unruly-returns/', 'https://visitseattle.org/events/beetlejuice/', 'https://visitseattle.org/events/seattle-kraken-vs-arizona-coyotes/', 'https://visitseattle.org/events/seattle-kraken-vs-san-jose-sharks/', 'https://visitseattle.org/events/the-percussion-sounds-from-home/', 'https://visitseattle.org/events/honoring-50-years-of-papunya-tula-painting/', 'https://visitseattle.org/events/page/26/?frm=events&s', 'https://visitseattle.org/events/the-moors/', 'https://visitseattle.org/events/mahler-symphony-no-3/', 'https://visitseattle.org/events/festal-seattle-cherry-blossom-japanese-cultural-festival/', 'https://visitseattle.org/events/best-of-the-northwest-spring-show/', 'https://visitseattle.org/events/an-evening-with-jinjoo-cho/', 'https://visitseattle.org/events/dvorak-symphony-no-6/', 'https://visitseattle.org/events/seattle-sounders-fc-vs-vancouver-whitecaps-fc/', 'https://visitseattle.org/events/the-seasons-canon/', 'https://visitseattle.org/events/drum-tao-30th-anniversary/', 'https://visitseattle.org/events/page/27/?frm=events&s', 'https://visitseattle.org/events/ajr/', 'https://visitseattle.org/events/seattle-restaurant-week/', 'https://visitseattle.org/events/disneys-aladdin/', 'https://visitseattle.org/events/antarctic-symphony/', 'https://visitseattle.org/events/skagit-valley-tulip-festival/', 'https://visitseattle.org/events/my-dinner-with-sam-2/', 'https://visitseattle.org/events/noah-gellers-playlist/', 'https://visitseattle.org/events/broadway-spectacular/', 'https://visitseattle.org/events/festal-asian-pacific-islander-heritage-month-celebration/', 'https://visitseattle.org/events/page/28/?frm=events&s', 'https://visitseattle.org/events/opening-day-of-boating-season/', 'https://visitseattle.org/events/jessica-jackson-hutchins-wrecked-and-righteous/', 'https://visitseattle.org/events/the-lion-tells-his-tale/', 'https://visitseattle.org/events/seattle-sounders-fc-vs-la-galaxy/', 'https://visitseattle.org/events/melanie-martinez/', 'https://visitseattle.org/events/festal-spirit-of-africa/', 'https://visitseattle.org/events/guma-gela-part-land-part-sea-all-ancestry/', 'https://visitseattle.org/events/jaune-quick-to-see-smith-memory-map/', 'https://visitseattle.org/events/fat-ham/', 'https://visitseattle.org/events/page/29/?frm=events&s', 'https://visitseattle.org/events/a-tale-of-peter-rabbit/', 'https://visitseattle.org/events/the-lehman-trilogy/', 'https://visitseattle.org/events/the-untold-story-of-sharks-national-geographic-live/', 'https://visitseattle.org/events/seattle-storm-vs-minnesota-lynx/', 'https://visitseattle.org/events/the-rolling-stones/', 'https://www.lumenfield.com/events/the-rolling-stones-2024', 'https://visitseattle.org/events/mother/', 'https://visitseattle.org/events/barber-violin-concerto/', 'https://visitseattle.org/events/festal-a-glimpse-of-china-seattle-chinese-culture-arts-festival/', 'https://visitseattle.org/events/seattle-sounders-fc-vs-vancouver-whitecaps-fc-2/', 'https://visitseattle.org/events/page/30/?frm=events&s', 'https://visitseattle.org/events/seattle-international-film-festival/', 'https://visitseattle.org/events/u-district-street-fair/', 'https://visitseattle.org/events/madness/', 'https://www.lumenfield.com/events/madness-2024', 'https://visitseattle.org/events/seattle-storm-vs-indiana-fever/', 'https://visitseattle.org/events/the-barber-of-seville/', 'https://visitseattle.org/events/seattle-storm-vs-washington-mystics/', 'https://visitseattle.org/events/53rd-annual-northwest-folklife-festival/', 'https://visitseattle.org/events/seattle-sounders-fc-vs-real-salt-lake/', 'https://visitseattle.org/events/caifanes-and-cafe-tacvba/', 'https://www.wamutheater.com/events/caifanes-and-cafe-tacvba', 'https://visitseattle.org/events/page/31/?frm=events&s', 'https://visitseattle.org/events/unriveled/', 'https://visitseattle.org/events/festal-pagdiriwang-philippine-festival/', 'https://visitseattle.org/events/seattle-storm-vs-phoenix-mercury/', 'https://visitseattle.org/events/festal-indigenous-people-festival/', 'https://visitseattle.org/events/george-balenchines-coppelia/', 'https://visitseattle.org/events/jan-lisiecki-plays-prokofiev/', 'https://visitseattle.org/events/seattle-storm-vs-los-angeles-sparks/', 'https://visitseattle.org/events/third-eye-blind/', 'https://www.wamutheater.com/events/third-eye-blind-with-special-guest-yellowcard-2024', 'https://visitseattle.org/events/beethoven-symphony-no-5/', 'https://visitseattle.org/events/page/32/?frm=events&s', 'https://visitseattle.org/events/elizabeth-malaska-all-be-your-mirror/', 'https://visitseattle.org/events/joshua-bell-plays-elements-concerto/', 'https://visitseattle.org/events/festal-seattle-iranian-festival/', 'https://visitseattle.org/events/seattle-sounders-fc-vs-minnesota-united-fc/', 'https://visitseattle.org/events/together-again-again/', 'https://visitseattle.org/events/2024-kpmg-womens-pga-championship/', 'https://visitseattle.org/events/lip-sync-for-our-rights/', 'https://visitseattle.org/events/seattle-storm-vs-connecticut-sun/', 'https://visitseattle.org/events/seattle-storm-vs-indiana-fever-2/', 'https://visitseattle.org/events/page/33/?frm=events&s', 'https://visitseattle.org/events/company/', 'https://visitseattle.org/events/seattle-storm-vs-dallas-wings/', 'https://visitseattle.org/events/sounders-fc-vs-chicago-fire-fc/', 'https://visitseattle.org/events/2024-university-of-washington-mfa-mdes-thesis-exhibition/', 'https://visitseattle.org/events/spring-awakening/', 'https://visitseattle.org/events/girl-from-the-north-country/', 'https://visitseattle.org/events/seattle-storm-vs-dallas-wings-2/', 'https://visitseattle.org/events/seattle-storm-vs-chicago-sky/', 'https://visitseattle.org/events/seattle-sounders-fc-vs-new-england-revolution/', 'https://visitseattle.org/events/page/34/?frm=events&s', 'https://visitseattle.org/events/anida-yoeu-ali-hybrid-skin-mythical-presence/', 'https://visitseattle.org/events/seattle-storm-vs-chicago-sky-2/', 'https://visitseattle.org/events/seattle-storm-vs-las-vegas-aces/', 'https://visitseattle.org/events/seattle-storm-vs-minnesota-lynx-2/', 'https://visitseattle.org/events/festal-polish-festival-seattle/', 'https://visitseattle.org/events/kenny-chesney-with-zac-brown-band/', 'https://www.lumenfield.com/events/kenny-chesney-and-zac-brown-band-2024', 'https://visitseattle.org/events/seattle-storm-vs-atlanta-dream/', 'https://visitseattle.org/events/seattle-sounders-fc-vs-st-louis-sc/', 'https://visitseattle.org/events/seattle-sounders-fc-vs-los-angeles-fc/', 'https://visitseattle.org/events/page/35/?frm=events&s', 'https://visitseattle.org/events/nordic-utopia-african-americans-in-the-20th-century/', 'https://visitseattle.org/events/clue/', 'https://visitseattle.org/events/be-water-my-friend-the-teachings-of-bruce-lee/', 'https://visitseattle.org/events/festal-seattle-arab-festival/', 'https://visitseattle.org/events/olivia-rodrigo/', 'https://visitseattle.org/events/festal-tibet-fest/', 'https://visitseattle.org/events/festal-brasilfest/', 'https://visitseattle.org/events/festal-festival-sundiata-presents-black-arts-fest/', 'https://visitseattle.org/events/seattle-storm-vs-washington-mystics-2/', 'https://visitseattle.org/events/page/36/?frm=events&s', 'https://visitseattle.org/events/seattle-storm-vs-atlanta-dream-2/', 'https://visitseattle.org/events/seattle-storm-vs-new-york-liberty/', 'https://visitseattle.org/events/hidden-worlds-the-films-of-laika/', 'https://visitseattle.org/events/metallica/', 'https://www.lumenfield.com/events/metallica-aug-30-2024', 'https://visitseattle.org/events/poke-in-the-eye-art-of-the-west-coast-counterculture/', 'https://visitseattle.org/events/chicago-and-earth-wind-fire/', 'https://visitseattle.org/events/seattle-storm-vs-phoenix-mercury-2/', 'https://visitseattle.org/events/sum-41/', 'https://www.wamutheater.com/events/sum-41-2024', 'https://visitseattle.org/events/festal-live-aloha-hawaiian-cultural-festival/', 'https://visitseattle.org/events/page/37/?frm=events&s', 'https://visitseattle.org/events/sound-check-the-music-we-make/', 'https://visitseattle.org/events/2024-apple-cup/', 'https://www.lumenfield.com/events/university-of-washington-vs-washington-state-university-2024', 'https://visitseattle.org/events/festal-sea-mar-fiestas-patrias/', 'https://visitseattle.org/events/seattle-sounders-fc-vs-sporting-kansas-city/', 'https://visitseattle.org/events/seattle-storm-vs-los-angeles-sparks-2/', 'https://visitseattle.org/events/seattle-storm-vs-las-vegas-aces-2/', 'https://visitseattle.org/events/seattle-sounders-fc-vs-san-jose-earthquakes/', 'https://visitseattle.org/events/seatle-sounders-fc-vs-houston-dynamo/', 'https://visitseattle.org/events/festal-the-italian-festival/', 'https://visitseattle.org/events/page/38/?frm=events&s', 'https://visitseattle.org/events/raul-de-nieves/', 'https://visitseattle.org/events/festal-croatiafest/', 'https://visitseattle.org/events/festal-turkfest/', 'https://visitseattle.org/events/seattle-sounders-fc-vs-portland-timbers/', 'https://visitseattle.org/events/sebastian-maniscalco/', 'https://visitseattle.org/events/frye-salon/', 'https://visitseattle.org/events/festal-dia-de-muertos-festival-seattle/', 'https://visitseattle.org/events/festal-diwali-lights-of-india/', 'https://visitseattle.org/events/festal-seattle-hmong-new-year/', 'https://visitseattle.org/events/page/39/?frm=events&s', 'https://visitseattle.org/events/on-native-land-landscapes-from-the-haub-family-collection/', 'https://visitseattle.org/events/joyce-j-scott-walk-a-mile-in-my-dreams/', 'https://visitseattle.org/events/washi-transformed-new-expressions-in-japanese-paper/', 'https://visitseattle.org/events/explore-the-market/', 'https://visitseattle.org/events/olympic-sculpture-park/', 'https://visitseattle.org/events/infinite-worlds-of-science-fiction/', 'https://visitseattle.org/events/wild-blue-angel-hendrix-abroad-1966-70/', 'https://visitseattle.org/events/john-grade-middle-fork/', 'https://visitseattle.org/events/scared-to-death-the-thrill-of-horror-film/', 'https://visitseattle.org/events/page/40/?frm=events&s', 'https://visitseattle.org/events/nirvana-taking-punk-to-the-masses/', 'https://visitseattle.org/events/vietnam-divided-war-above-southeast-asia/', 'https://visitseattle.org/events/science-fiction-and-fantasy-hall-of-fame/', 'https://visitseattle.org/events/cambodian-cultural-museum-and-killing-fields-memorial/', 'https://visitseattle.org/events/honoring-our-journey/', 'https://visitseattle.org/events/spotlight-on-dale-chihuly-works-from-museum-of-glass-permanent-collection/', 'https://visitseattle.org/events/great-hall-of-washington-history/', 'https://visitseattle.org/events/humboldt-penguin-exhibit/', 'https://visitseattle.org/events/giant-pacific-octopus/', 'https://visitseattle.org/events/page/41/?frm=events&s', 'https://visitseattle.org/events/meet-our-marine-mammals/', 'https://visitseattle.org/events/window-on-washington-waters/', 'https://visitseattle.org/events/guitar-gallery/', 'https://visitseattle.org/events/nordic-journeys/', 'https://visitseattle.org/events/bairds-beaked-whale/', 'https://visitseattle.org/events/amazing-life/', 'https://visitseattle.org/events/culture-is-living/', 'https://visitseattle.org/events/fossils-uncovered/', 'https://visitseattle.org/events/northwest-native-art/', 'https://visitseattle.org/events/page/42/?frm=events&s', 'https://visitseattle.org/events/our-material-world/', 'https://visitseattle.org/events/apollo/', 'https://visitseattle.org/events/art-and-life-along-the-northwest-coast/', 'https://visitseattle.org/events/washington-my-home/', 'https://visitseattle.org/events/sensory-friendly-programs/', 'https://visitseattle.org/events/dale-chihuly-at-tacoma-art-museum/', 'https://visitseattle.org/events/be-longing-contemporary-asian-art/', 'https://visitseattle.org/events/porcelain-room/', 'https://visitseattle.org/events/life-on-the-edge/', 'https://visitseattle.org/events/page/43/?frm=events&s']\n"
     ]
    }
   ],
   "source": [
    "import requests\n",
    "from bs4 import BeautifulSoup\n",
    "\n",
    "def scrape_event_links():\n",
    "    event_links = []\n",
    "    base_url = \"https://visitseattle.org/events/\"\n",
    "    page = 1\n",
    "    max_pages = 41\n",
    "\n",
    "    while page <= max_pages:\n",
    "        response = requests.get(f\"{base_url}page/{page}/\")\n",
    "        if response.status_code != 200:\n",
    "            break\n",
    "\n",
    "        soup = BeautifulSoup(response.content, 'html.parser')\n",
    "        for a_tag in soup.find_all('a', href=True):\n",
    "            if '/events/' in a_tag['href'] and a_tag['href'] not in event_links:\n",
    "                event_links.append(a_tag['href'])\n",
    "\n",
    "        page += 1\n",
    "\n",
    "    return event_links\n",
    "\n",
    "event_links = scrape_event_links()\n",
    "\n",
    "print(event_links)\n"
   ]
  },
  {
   "cell_type": "code",
   "execution_count": 2,
   "metadata": {},
   "outputs": [
    {
     "ename": "NameError",
     "evalue": "name 'csv' is not defined",
     "output_type": "error",
     "traceback": [
      "\u001b[0;31m---------------------------------------------------------------------------\u001b[0m",
      "\u001b[0;31mNameError\u001b[0m                                 Traceback (most recent call last)",
      "Cell \u001b[0;32mIn[2], line 40\u001b[0m\n\u001b[1;32m     38\u001b[0m \u001b[38;5;66;03m# Write to CSV\u001b[39;00m\n\u001b[1;32m     39\u001b[0m \u001b[38;5;28;01mwith\u001b[39;00m \u001b[38;5;28mopen\u001b[39m(\u001b[38;5;124m'\u001b[39m\u001b[38;5;124mevents.csv\u001b[39m\u001b[38;5;124m'\u001b[39m, mode\u001b[38;5;241m=\u001b[39m\u001b[38;5;124m'\u001b[39m\u001b[38;5;124mw\u001b[39m\u001b[38;5;124m'\u001b[39m, newline\u001b[38;5;241m=\u001b[39m\u001b[38;5;124m'\u001b[39m\u001b[38;5;124m'\u001b[39m, encoding\u001b[38;5;241m=\u001b[39m\u001b[38;5;124m'\u001b[39m\u001b[38;5;124mutf-8\u001b[39m\u001b[38;5;124m'\u001b[39m) \u001b[38;5;28;01mas\u001b[39;00m file:\n\u001b[0;32m---> 40\u001b[0m     writer \u001b[38;5;241m=\u001b[39m \u001b[43mcsv\u001b[49m\u001b[38;5;241m.\u001b[39mDictWriter(file, fieldnames\u001b[38;5;241m=\u001b[39m[\u001b[38;5;124m'\u001b[39m\u001b[38;5;124mName\u001b[39m\u001b[38;5;124m'\u001b[39m, \u001b[38;5;124m'\u001b[39m\u001b[38;5;124mDate\u001b[39m\u001b[38;5;124m'\u001b[39m, \u001b[38;5;124m'\u001b[39m\u001b[38;5;124mLocation\u001b[39m\u001b[38;5;124m'\u001b[39m, \u001b[38;5;124m'\u001b[39m\u001b[38;5;124mType\u001b[39m\u001b[38;5;124m'\u001b[39m, \u001b[38;5;124m'\u001b[39m\u001b[38;5;124mRegion\u001b[39m\u001b[38;5;124m'\u001b[39m])\n\u001b[1;32m     41\u001b[0m     writer\u001b[38;5;241m.\u001b[39mwriteheader()\n\u001b[1;32m     42\u001b[0m     \u001b[38;5;28;01mfor\u001b[39;00m event \u001b[38;5;129;01min\u001b[39;00m events_data:\n",
      "\u001b[0;31mNameError\u001b[0m: name 'csv' is not defined"
     ]
    }
   ],
   "source": [
    "import csv\n",
    "\n",
    "def scrape_event_details(url):\n",
    "    response = requests.get(url)\n",
    "    if response.status_code != 200:\n",
    "        return None\n",
    "\n",
    "    soup = BeautifulSoup(response.content, 'html.parser')\n",
    "\n",
    "    # Using CSS selectors with select_one\n",
    "    name_element = soup.select_one('#body > div.global-wrapper > div.container-event-detail.padding-top-bottom > div:nth-child(1) > div.medium-6.columns.event-top > h1')\n",
    "    date_element = soup.select_one('#body > div.global-wrapper > div.container-event-detail.padding-top-bottom > div:nth-child(1) > div.medium-6.columns.event-top > h4')\n",
    "    location_element = soup.select_one('#body > div.global-wrapper > div.container-event-detail.padding-top-bottom > div:nth-child(1) > div.medium-6.columns.event-top > h4 > span:nth-child(2)')\n",
    "    type_element = soup.select_one('#body > div.global-wrapper > div.container-event-detail.padding-top-bottom > div:nth-child(1) > div.medium-6.columns.event-top > h4 > span:nth-child(2)')\n",
    "    region_element = soup.select_one('#body > div.global-wrapper > div.container-event-detail.padding-top-bottom > div:nth-child(1) > div.medium-6.columns.event-top > h4 > span:nth-child(2)')\n",
    "\n",
    "    name = name_element.get_text().strip() if name_element else 'Not Available'\n",
    "    date = date_element.get_text().strip() if date_element else 'Not Available'\n",
    "    location = location_element.get_text().strip() if location_element else 'Not Available'\n",
    "    event_type = type_element.get_text().strip() if type_element else 'Not Available'\n",
    "    region = region_element.get_text().strip() if region_element else 'Not Available'\n",
    "\n",
    "    if 'Not Available' in [name, date, location, event_type, region]:\n",
    "        return None\n",
    "\n",
    "    return {\n",
    "        'Name': name,\n",
    "        'Date': date,\n",
    "        'Location': location,\n",
    "        'Type': event_type,\n",
    "        'Region': region\n",
    "    }\n",
    "\n",
    "events_data = []\n",
    "for url in event_links:\n",
    "    event_detail = scrape_event_details(url)\n",
    "    if event_detail:\n",
    "        events_data.append(event_detail)\n",
    "\n",
    "# Write to CSV\n",
    "with open('events.csv', mode='w', newline='', encoding='utf-8') as file:\n",
    "    writer = csv.DictWriter(file, fieldnames=['Name', 'Date', 'Location', 'Type', 'Region'])\n",
    "    writer.writeheader()\n",
    "    for event in events_data:\n",
    "        writer.writerow(event)\n"
   ]
  },
  {
   "cell_type": "code",
   "execution_count": 22,
   "metadata": {},
   "outputs": [],
   "source": [
    "def get_lat_lon(location_name):\n",
    "    base_url = \"https://nominatim.openstreetmap.org/search.php\"\n",
    "    query_params = {\n",
    "        \"q\": location_name,\n",
    "        \"format\": \"jsonv2\"\n",
    "    }\n",
    "    res = requests.get(base_url, params=query_params)\n",
    "    location_data = res.json()\n",
    "    \n",
    "    if location_data:\n",
    "        latitude = location_data[0]['lat']\n",
    "        longitude = location_data[0]['lon']\n",
    "        return latitude, longitude\n",
    "    else:\n",
    "        return None, None\n"
   ]
  },
  {
   "cell_type": "code",
   "execution_count": 23,
   "metadata": {},
   "outputs": [],
   "source": [
    "def get_weather_info(lat, lon):\n",
    "    weather_url = f\"https://api.weather.gov/points/{lat},{lon}\"\n",
    "    res = requests.get(weather_url)\n",
    "    if res.status_code != 200:\n",
    "        return \"Weather data not available\"\n",
    "\n",
    "    point_dict = res.json()\n",
    "    forecast_url = point_dict['properties']['forecast']\n",
    "    forecast_res = requests.get(forecast_url)\n",
    "    forecast_data = forecast_res.json()\n",
    "\n",
    "    weather_info = forecast_data['properties']['periods'][0]['detailedForecast']\n",
    "    return weather_info\n"
   ]
  },
  {
   "cell_type": "code",
   "execution_count": 27,
   "metadata": {},
   "outputs": [
    {
     "name": "stdout",
     "output_type": "stream",
     "text": [
      "[{'Name': 'Steinunn Porarinsdottir: Wayfinders', 'Date': 'Now through 1/28/2024 |  National Nordic Museum', 'Location': 'National Nordic Museum', 'Type': 'National Nordic Museum', 'Region': 'National Nordic Museum'}, {'Name': 'Hanako O’Leary: Izanami', 'Date': 'Now through 1/28/2024 |  Frye Art Museum', 'Location': 'Frye Art Museum', 'Type': 'Frye Art Museum', 'Region': 'Frye Art Museum'}, {'Name': 'Gage Alumni Show', 'Date': 'Now through 1/28/2024 |  Fountainhead Gallery', 'Location': 'Fountainhead Gallery', 'Type': 'Fountainhead Gallery', 'Region': 'Fountainhead Gallery'}, {'Name': 'Genre Box', 'Date': 'Now through 1/28/2024 |  Market Theatre', 'Location': 'Market Theatre', 'Type': 'Market Theatre', 'Region': 'Market Theatre'}, {'Name': 'Bohemia', 'Date': 'Now through 1/28/2024 |  The Triple Door', 'Location': 'The Triple Door', 'Type': 'The Triple Door', 'Region': 'The Triple Door'}]\n"
     ]
    }
   ],
   "source": [
    "events_data = []\n",
    "for url in event_links:\n",
    "    event_detail = scrape_event_details(url)\n",
    "    if event_detail is not None:\n",
    "        events_data.append(event_detail)\n",
    "\n",
    "print(events_data[:5])\n",
    "\n",
    "# Write to CSV\n",
    "with open('enhanced_events.csv', mode='w', newline='', encoding='utf-8') as file:\n",
    "    writer = csv.DictWriter(file, fieldnames=['Name', 'Date', 'Location', 'Type', 'Region', 'Latitude', 'Longitude', 'Weather'])\n",
    "    writer.writeheader()\n",
    "\n",
    "    for event in events_data:\n",
    "        lat, lon = get_lat_lon(event['Location'])\n",
    "        weather_info = get_weather_info(lat, lon) if lat and lon else \"Weather data not available\"\n",
    "\n",
    "        event['Latitude'] = lat if lat else \"Not Available\"\n",
    "        event['Longitude'] = lon if lon else \"Not Available\"\n",
    "        event['Weather'] = weather_info\n",
    "\n",
    "        writer.writerow(event)"
   ]
  }
 ],
 "metadata": {
  "kernelspec": {
   "display_name": "Python 3",
   "language": "python",
   "name": "python3"
  },
  "language_info": {
   "codemirror_mode": {
    "name": "ipython",
    "version": 3
   },
   "file_extension": ".py",
   "mimetype": "text/x-python",
   "name": "python",
   "nbconvert_exporter": "python",
   "pygments_lexer": "ipython3",
   "version": "3.12.1"
  }
 },
 "nbformat": 4,
 "nbformat_minor": 2
}
