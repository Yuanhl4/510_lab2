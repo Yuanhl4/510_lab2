{
 "cells": [
  {
   "cell_type": "code",
   "execution_count": 1,
   "metadata": {},
   "outputs": [
    {
     "name": "stdout",
     "output_type": "stream",
     "text": [
      "['https://visitseattle.org/things-to-do/events/', 'https://visitseattle.org/things-to-do/events/festivals/', 'https://visitseattle.org/things-to-do/events/submit-your-event/', 'https://visitseattle.org/events/steinunn-porarinsdottir-wayfinders/', 'https://visitseattle.org/events/hanako-oleary-izanami/', 'https://visitseattle.org/events/gage-alumni-show/', 'https://visitseattle.org/events/genre-box/', 'https://visitseattle.org/events/bohemia/', 'https://thetripledoor.net/go/events/5268015?feature_id=923529&occurrence_id=653883219&popup=1', 'https://visitseattle.org/events/alice-in-shadowland/', 'https://visitseattle.org/events/lee-ritenour-and-dave-grusin/', 'https://visitseattle.org/events/tacoma-home-garden-show/', 'https://visitseattle.org/events/annie-eastwood-with-kimball-and-the-fugitives/', 'https://visitseattle.org/events/page/2/?frm=events&s', 'https://visitseattle.org/events/page/3/?frm=events&s', 'https://visitseattle.org/events/page/4/?frm=events&s', 'https://visitseattle.org/events/page/5/?frm=events&s', 'https://visitseattle.org/events/page/46/?frm=events&s', 'https://visitseattle.org/events/black-and-boujee-panel-discussion/', 'https://visitseattle.org/events/celebrate-asia/', 'https://visitseattle.org/events/djangos-birthday-concert-with-ranger-and-the-re-arrangers/', 'https://visitseattle.org/events/family-day-with-birds-connect-seattle/', 'https://nordicmuseum.org/events/family-day-birds-connect-seattle', 'https://visitseattle.org/events/fossil-finders-ice-ages/', 'https://visitseattle.org/events/seattle-kraken-vs-columbus-blue-jackets/', 'https://visitseattle.org/events/tacoma-stars-vs-san-diego-sockers-3/', 'https://visitseattle.org/events/adira-sharkey/', 'https://visitseattle.org/events/car-the-garden/', 'https://visitseattle.org/events/?frm=events&s', 'https://visitseattle.org/events/walla-walla-wine-on-tour/', 'https://visitseattle.org/events/cheryl-wheeler/', 'https://thetripledoor.net/go/events/5175497?feature_id=923529&occurrence_id=644850768&popup=1', 'https://visitseattle.org/events/giantish/', 'https://visitseattle.org/events/seattle-thunderbirds-vs-prince-george-cougars-2/', 'https://visitseattle.org/events/a-political-rocks/', 'https://visitseattle.org/events/sophia-al-maria/', 'https://visitseattle.org/events/jahari-stampley/', 'https://visitseattle.org/events/fraktured-home-of-the-broken-beat/', 'https://visitseattle.org/events/g3-25th-anniversary-reunion/', 'https://visitseattle.org/events/jp-saxe/', 'https://www.showboxpresents.com/events/detail/498657', 'https://visitseattle.org/events/los-lobos/', 'https://visitseattle.org/events/the-daimonics/', 'https://visitseattle.org/events/babytron/', 'https://www.showboxpresents.com/events/detail/511918', 'https://visitseattle.org/events/battlestar-kalakala/', 'https://visitseattle.org/events/catalyzing-change-with-akuyea-karen-vargas/', 'https://visitseattle.org/events/exceptional-failures/', 'https://visitseattle.org/events/jamila-woods/', 'https://www.neumos.com/events/detail/jamila-woods-tickets-504795', 'https://visitseattle.org/events/jazz-is-dead-blue-note-85/', 'https://visitseattle.org/events/page/6/?frm=events&s', 'https://visitseattle.org/events/michelle-cann/', 'https://visitseattle.org/events/pakt/', 'https://visitseattle.org/events/public-theatre/', 'https://www.thebarboza.com/events/detail/public-theatre-tickets-524355', 'https://visitseattle.org/events/american-flats-album-release/', 'https://visitseattle.org/events/erik-walters/', 'https://www.thebarboza.com/events/detail/erik-walters-tickets-521737', 'https://visitseattle.org/events/memoir/', 'https://visitseattle.org/events/nora-en-pure/', 'https://www.showboxpresents.com/events/detail/517916', 'https://visitseattle.org/events/poolside/', 'https://www.showboxpresents.com/events/detail/512478', 'https://visitseattle.org/events/tacoma-stars-vs-monterrey-flash/', 'https://visitseattle.org/events/page/7/?frm=events&s', 'https://visitseattle.org/events/jaha-koo-the-history-of-korean-western-theatre/', 'https://visitseattle.org/events/the-winds-medley-of-emotions/', 'https://visitseattle.org/events/all-will-suffer/', 'https://visitseattle.org/events/banned-beloved/', 'https://visitseattle.org/events/cold-war-kids-20-years-tour/', 'https://visitseattle.org/events/mau-p/', 'https://www.showboxpresents.com/events/detail/508758', 'https://visitseattle.org/events/oble/', 'https://www.thebarboza.com/events/detail/oble-w-ardn-special-guest-tickets-524570', 'https://visitseattle.org/events/randy-rainbow-for-president/', 'https://visitseattle.org/events/the-delta-bombers/', 'https://visitseattle.org/events/page/8/?frm=events&s', 'https://visitseattle.org/events/the-grave-plot-film-fest-part-6/', 'https://visitseattle.org/events/seattle-chamber-music-winter-festival/', 'https://visitseattle.org/events/beethoven-emperor-concerto/', 'https://visitseattle.org/events/sergio-mendes/', 'https://visitseattle.org/events/daniel-tigers-neighborhood/', 'https://visitseattle.org/events/family-art-day-la-vaughn-belle/', 'https://nordicmuseum.org/events/family-art-day-la-vaughn-belle-1', 'https://visitseattle.org/events/lil-skies/', 'https://www.showboxpresents.com/events/detail/519552', 'https://visitseattle.org/events/secular-and-sacred/', 'https://visitseattle.org/events/criminal/', 'https://visitseattle.org/events/page/9/?frm=events&s', 'https://visitseattle.org/events/neck-deep/', 'https://www.showboxpresents.com/events/detail/505354', 'https://visitseattle.org/events/kazu-kibuishi-with-donna-barba-higuera/', 'https://visitseattle.org/events/kristin-hannah/', 'https://visitseattle.org/events/michael-j-gerhardt/', 'https://visitseattle.org/events/night-lovell/', 'https://www.showboxpresents.com/events/detail/519574', 'https://visitseattle.org/events/soja/', 'https://visitseattle.org/events/kenny-barron-trio/', 'https://visitseattle.org/events/dimiter/', 'https://visitseattle.org/events/tamara-payne-the-life-and-legacy-of-malcolm-x/', 'https://visitseattle.org/events/page/10/?frm=events&s', 'https://visitseattle.org/events/the-kills/', 'https://www.showboxpresents.com/events/detail/509132', 'https://visitseattle.org/events/an-evening-with-tina-campt-black-feminist-visual-culture/', 'https://visitseattle.org/events/art-and-transformation/', 'https://visitseattle.org/events/eric-bellinger/', 'https://www.showboxpresents.com/events/detail/511233', 'https://visitseattle.org/events/futurebirds-and-nude-party/', 'https://visitseattle.org/events/ilana-glazer-live/', 'https://visitseattle.org/events/mister-blank/', 'https://nectarlounge.com/events/calendar/', 'https://visitseattle.org/events/the-thorn/', 'https://visitseattle.org/events/barry-cant-swim/', 'https://www.neumos.com/events/detail/barry-can-t-swim-tickets-508757', 'https://visitseattle.org/events/page/11/?frm=events&s', 'https://visitseattle.org/events/dark-star-orchestra/', 'https://www.showboxpresents.com/events/detail/509140', 'https://visitseattle.org/events/govt-mule/', 'https://visitseattle.org/events/ijeoma-oluo-be-a-revolution/', 'https://visitseattle.org/events/mayer-hawthorne/', 'https://visitseattle.org/events/moontricks/', 'https://visitseattle.org/events/oboe-oboe/', 'https://visitseattle.org/events/roots-and-wings/', 'https://visitseattle.org/events/seattle-boat-show/', 'https://visitseattle.org/events/randall-goosby-plays-mozart/', 'https://visitseattle.org/events/page/12/?frm=events&s', 'https://visitseattle.org/events/art-by-design/', 'https://visitseattle.org/events/the-love-show/', 'https://visitseattle.org/events/brazilian-carnaval-2024/', 'https://visitseattle.org/events/chase-rice/', 'https://www.showboxpresents.com/events/detail/512163', 'https://visitseattle.org/events/joe-mr-d-dombrowski/', 'https://visitseattle.org/events/jvna/', 'https://www.showboxpresents.com/events/detail/509762', 'https://visitseattle.org/events/linda-from-work/', 'https://www.thebarboza.com/events/detail/linda-from-work-tickets-524451', 'https://visitseattle.org/events/the-brother-brothers/', 'https://visitseattle.org/events/the-temptations-the-four-tops/', 'https://visitseattle.org/events/page/13/?frm=events&s', 'https://visitseattle.org/events/quixote-nuevo/', 'https://visitseattle.org/events/kent-stowells-swan-lake/', 'https://visitseattle.org/events/blood-sweat-and-tears/', 'https://visitseattle.org/events/love-at-the-zoo/', 'https://visitseattle.org/events/scott-bradlees-postmodern-jukebox/', 'https://visitseattle.org/events/tourist-and-amtrac/', 'https://www.showboxpresents.com/events/detail/511296', 'https://visitseattle.org/events/6th-annual-sami-film-festival/', 'https://visitseattle.org/events/eliades-ochoa/', 'https://visitseattle.org/events/k-wayne-yang/', 'https://visitseattle.org/events/page/14/?frm=events&s', 'https://visitseattle.org/events/juanes/', 'https://visitseattle.org/events/black-dogs-2/', 'https://visitseattle.org/events/hear-me-talkin-to-you-womxn-and-blues/', 'https://visitseattle.org/events/maddie-zahm/', 'https://visitseattle.org/events/silversun-pickups/', 'https://visitseattle.org/events/the-brodies/', 'https://visitseattle.org/events/cory-wong-winter-2024-tour/', 'https://visitseattle.org/events/left-on-tenth/', 'https://visitseattle.org/events/marlon-wayans/', 'https://visitseattle.org/events/page/15/?frm=events&s', 'https://visitseattle.org/events/riley-mulherkar-album-release-show/', 'https://visitseattle.org/events/yeah/', 'https://visitseattle.org/events/circahumans-2-0/', 'https://visitseattle.org/events/big-business/', 'https://visitseattle.org/events/david-wax-museum/', 'https://www.fremontabbey.org/events/', 'https://visitseattle.org/events/jon-batiste/', 'https://visitseattle.org/events/lespecial/', 'https://visitseattle.org/events/tobymac-hits-deep-2024/', 'https://www.accessoshowarecenter.com/events/2024/tobymac', 'https://visitseattle.org/events/a-case-for-the-existence-of-god/', 'https://visitseattle.org/events/page/16/?frm=events&s', 'https://visitseattle.org/events/northwest-flower-garden-festival/', 'https://visitseattle.org/events/the-princess-bride-in-concert-with-the-seattle-symphony/', 'https://visitseattle.org/events/mindi-abair-wine-and-jazz-tour-2024/', 'https://visitseattle.org/events/madonna/', 'https://visitseattle.org/events/aqua-fools-day/', 'https://visitseattle.org/events/dr-joy-buolamwini/', 'https://visitseattle.org/events/la-nef-red-sky-at-night/', 'https://visitseattle.org/events/love-beyond-border/', 'https://visitseattle.org/events/meet-the-author-maggie-taft-the-chieftain-and-the-chair/', 'https://nordicmuseum.org/events/meet-the-author-maggie-taft', 'https://visitseattle.org/events/page/17/?frm=events&s', 'https://visitseattle.org/events/seattle-kraken-vs-detroit-red-wings/', 'https://visitseattle.org/events/the-thrifted/', 'https://visitseattle.org/events/black-and-boujee/', 'https://visitseattle.org/events/from-mozart-to-matthews/', 'https://visitseattle.org/events/lukas-nelson/', 'https://www.showboxpresents.com/events/detail/517112', 'https://visitseattle.org/events/mahogany-smartfilms-black-luxury/', 'https://visitseattle.org/events/robots-who-paint/', 'https://visitseattle.org/events/trask/', 'https://visitseattle.org/events/wu-han-philip-setzer-david-finckel/', 'https://visitseattle.org/events/page/18/?frm=events&s', 'https://visitseattle.org/events/the-cookers/', 'https://visitseattle.org/events/cesar-cuauhtemoc-garcia-hernandez/', 'https://visitseattle.org/events/side-by-side-with-seattle-youth-symphony-orchestra/', 'https://visitseattle.org/events/bailen/', 'https://visitseattle.org/events/dr-charan-ranganath/', 'https://visitseattle.org/events/mountain-holler/', 'https://visitseattle.org/events/seattle-kraken-vs-vancouver-canucks/', 'https://visitseattle.org/events/shabaka/', 'https://visitseattle.org/events/funky-friday-with-f2d/', 'https://visitseattle.org/events/page/19/?frm=events&s', 'https://visitseattle.org/events/blackstar-symphony-the-music-of-david-bowie/', 'https://visitseattle.org/events/caligulas-horse/', 'https://visitseattle.org/events/opera-talk-the-making-of-x/', 'https://visitseattle.org/events/tikkadoom-and-nick-drummond/', 'https://visitseattle.org/events/wreckno/', 'https://www.showboxpresents.com/events/detail/520540', 'https://visitseattle.org/events/kelly-akashi/', 'https://visitseattle.org/events/the-lower-depths/', 'https://visitseattle.org/events/bassekou-kouyate-and-vieux-farka-toure/', 'https://visitseattle.org/events/crystal-skies/', 'https://visitseattle.org/events/page/20/?frm=events&s', 'https://visitseattle.org/events/dan-brown-wild-symphony/', 'https://visitseattle.org/events/nate-jackson/', 'https://visitseattle.org/events/pink-sweat/', 'https://www.showboxpresents.com/events/detail/510837', 'https://visitseattle.org/events/root-and-branch/', 'https://visitseattle.org/events/seattle-kraken-vs-minnesota-wild-2/', 'https://visitseattle.org/events/small-island-big-song/', 'https://visitseattle.org/events/born-with-teeth/', 'https://www.artswest.org/events/born-with-teeth/', 'https://visitseattle.org/events/once-more-just-for-you/', 'https://visitseattle.org/events/wintergrass-music-festival/', 'https://visitseattle.org/events/page/21/?frm=events&s', 'https://visitseattle.org/events/klezmer-starts-here-the-music-of-abe-schwartz/', 'https://visitseattle.org/events/telling-the-story/', 'https://visitseattle.org/events/cherry-glazerr/', 'https://www.neumos.com/events/detail/cherry-glazerr-tickets-504787', 'https://visitseattle.org/events/dick-angel-dare-to-do-it/', 'https://visitseattle.org/events/seattle-kraken-vs-boston-bruins/', 'https://visitseattle.org/events/hunt-for-sleeping-giants-national-geographic-live/', 'https://visitseattle.org/events/big-tooth/', 'https://visitseattle.org/events/eric-klinenberg/', 'https://visitseattle.org/events/fresh-dressed-smartfilms-black-luxury/', 'https://visitseattle.org/events/page/22/?frm=events&s', 'https://visitseattle.org/events/joy-harjo/', 'https://visitseattle.org/events/anand-gopal/', 'https://visitseattle.org/events/dianne-reeves/', 'https://visitseattle.org/events/kassa-overall/', 'https://visitseattle.org/events/playboi-carti/', 'https://visitseattle.org/events/winter-brilliance/', 'https://visitseattle.org/events/seattle-museum-month/', 'https://visitseattle.org/events/jna-and-tavia-rhodes/', 'https://visitseattle.org/events/julian-lage/', 'https://visitseattle.org/events/page/23/?frm=events&s', 'https://visitseattle.org/events/marchfourth/', 'https://visitseattle.org/events/seattle-kraken-vs-pittsburgh-penguins/', 'https://visitseattle.org/events/the-human-family-2/', 'https://visitseattle.org/events/enjambre/', 'https://visitseattle.org/events/fall-out-boy/', 'https://visitseattle.org/events/global-rhythms-justin-adams-and-mauro-durante/', 'https://visitseattle.org/events/sloane-crosley-with-ben-gibbard/', 'https://visitseattle.org/events/tacoma-stars-vs-harrisburg-heat/', 'https://visitseattle.org/events/tommy-emmanuel/', 'https://visitseattle.org/events/page/24/?frm=events&s', 'https://visitseattle.org/events/facades/', 'https://visitseattle.org/events/conrad-taos-playlist/', 'https://visitseattle.org/events/crypta/', 'https://visitseattle.org/events/seattle-kraken-vs-edmonton-oilers/', 'https://visitseattle.org/events/seattle-sounders-fc-vs-austin-fc/', 'https://visitseattle.org/events/emerald-city-comic-con/', 'https://visitseattle.org/events/briscoe/', 'https://visitseattle.org/events/tacoma-stars-vs-harrisburg-heat-2/', 'https://visitseattle.org/events/eves-bayou-smartfilms-black-luxury/', 'https://visitseattle.org/events/page/25/?frm=events&s', 'https://visitseattle.org/events/atlus/', 'https://visitseattle.org/events/calidore-quartet-abeo-quartet/', 'https://visitseattle.org/events/holding-movement/', 'https://visitseattle.org/events/seattle-kraken-vs-winnipeg-jets/', 'https://visitseattle.org/events/xthe-life-and-times-of-malcolm-x/', 'https://visitseattle.org/events/bach-st-john-passion/', 'https://visitseattle.org/events/ariel-pink/', 'https://visitseattle.org/events/helene-grimaud/', 'https://visitseattle.org/events/josiah-and-the-bonnevilles/', 'https://www.thebarboza.com/events/detail/josiah-and-the-bonnevilles-tickets-504776', 'https://visitseattle.org/events/page/26/?frm=events&s', 'https://visitseattle.org/events/mahan-esfahan/', 'https://visitseattle.org/events/positive-fragmentation/', 'https://visitseattle.org/events/antonio-m-gomez-lineajes/', 'https://visitseattle.org/events/soren-solkaer-sort-sol/', 'https://visitseattle.org/events/luchadora/', 'https://visitseattle.org/events/wild-cats-revealed-national-geographic-live/', 'https://visitseattle.org/events/seattle-kraken-vs-vegas-golden-knights/', 'https://visitseattle.org/events/seattle-kraken-vs-washington-capitals/', 'https://visitseattle.org/events/autoheart/', 'https://visitseattle.org/events/page/27/?frm=events&s', 'https://visitseattle.org/events/the-snuts/', 'https://www.thebarboza.com/events/detail/the-snuts-tickets-516622', 'https://visitseattle.org/events/mark-morris-dance-group-the-look-of-love/', 'https://visitseattle.org/events/sibelius-nielsen/', 'https://visitseattle.org/events/tacoma-stars-vs-chihuahua-savage/', 'https://visitseattle.org/events/seattle-kraken-vs-nashville-predators/', 'https://visitseattle.org/events/seattle-sounders-fc-vs-colorado-rapids/', 'https://visitseattle.org/events/native-portraiture-power-and-perception/', 'https://visitseattle.org/events/places-to-call-home-settlements-in-the-west/', 'https://visitseattle.org/events/nobody-lives-here/', 'https://visitseattle.org/events/page/28/?frm=events&s', 'https://visitseattle.org/events/rootabaga-country/', 'https://visitseattle.org/events/seattle-kraken-vs-buffalo-sabres/', 'https://visitseattle.org/events/tacoma-stars-vs-empire-strykers-2/', 'https://visitseattle.org/events/somethings-afoot/', 'https://visitseattle.org/events/one-thousand-pieces/', 'https://visitseattle.org/events/simon-trpceski-plays-tchaikovsky/', 'https://visitseattle.org/events/celebrate-holi-spring-festival-of-colors-from-south-asia/', 'https://visitseattle.org/events/seattle-kraken-vs-montreal-canadiens/', 'https://visitseattle.org/events/seattle-kraken-vs-anaheim-ducks/', 'https://visitseattle.org/events/page/29/?frm=events&s', 'https://visitseattle.org/events/seattle-kraken-vs-anaheim-ducks-2/', 'https://visitseattle.org/events/tim-mcgraw/', 'https://visitseattle.org/events/harold-and-the-purple-crayon/', 'https://visitseattle.org/events/monster-jam/', 'https://www.lumenfield.com/events/monster-jam', 'https://visitseattle.org/events/seattle-kraken-vs-dallas-stars/', 'https://visitseattle.org/events/illuminate-glass-art-for-early-learners/', 'https://visitseattle.org/events/al-youngs-1970-dodge-challenger-drag-racer/', 'https://visitseattle.org/events/shine-on-seattle/', 'https://visitseattle.org/events/sanctuary-city/', 'https://visitseattle.org/events/page/30/?frm=events&s', 'https://visitseattle.org/events/stew/', 'https://visitseattle.org/events/luis-miguel/', 'https://visitseattle.org/events/taylor-raven-and-duke-kim-in-recital/', 'https://visitseattle.org/events/jo-koy/', 'https://visitseattle.org/events/copland-appalachian-spring/', 'https://visitseattle.org/events/seattle-sounders-fc-vs-cf-montreal/', 'https://visitseattle.org/events/tom-segura/', 'https://visitseattle.org/events/la-vaughn-belle-a-history-of-unruly-returns/', 'https://visitseattle.org/events/beetlejuice/', 'https://visitseattle.org/events/page/31/?frm=events&s', 'https://visitseattle.org/events/seattle-kraken-vs-arizona-coyotes/', 'https://visitseattle.org/events/seattle-kraken-vs-san-jose-sharks/', 'https://visitseattle.org/events/the-percussion-sounds-from-home/', 'https://visitseattle.org/events/honoring-50-years-of-papunya-tula-painting/', 'https://visitseattle.org/events/the-moors/', 'https://visitseattle.org/events/mahler-symphony-no-3/', 'https://visitseattle.org/events/best-of-the-northwest-spring-show/', 'https://visitseattle.org/events/an-evening-with-jinjoo-cho/', 'https://visitseattle.org/events/dvorak-symphony-no-6/', 'https://visitseattle.org/events/page/32/?frm=events&s', 'https://visitseattle.org/events/seattle-sounders-fc-vs-vancouver-whitecaps-fc-2/', 'https://visitseattle.org/events/the-seasons-canon/', 'https://visitseattle.org/events/drum-tao-30th-anniversary/', 'https://visitseattle.org/events/ajr/', 'https://visitseattle.org/events/disneys-aladdin/', 'https://visitseattle.org/events/antarctic-symphony/', 'https://visitseattle.org/events/noah-gellers-playlist/', 'https://visitseattle.org/events/broadway-spectacular/', 'https://visitseattle.org/events/jessica-jackson-hutchins-wrecked-and-righteous/', 'https://visitseattle.org/events/page/33/?frm=events&s', 'https://visitseattle.org/events/the-lion-tells-his-tale/', 'https://visitseattle.org/events/seattle-sounders-fc-vs-la-galaxy/', 'https://visitseattle.org/events/melanie-martinez/', 'https://visitseattle.org/events/guma-gela-part-land-part-sea-all-ancestry/', 'https://visitseattle.org/events/jaune-quick-to-see-smith-memory-map/', 'https://visitseattle.org/events/fat-ham/', 'https://visitseattle.org/events/a-tale-of-peter-rabbit/', 'https://visitseattle.org/events/the-lehman-trilogy/', 'https://visitseattle.org/events/the-untold-story-of-sharks-national-geographic-live/', 'https://visitseattle.org/events/page/34/?frm=events&s', 'https://visitseattle.org/events/seattle-storm-vs-minnesota-lynx/', 'https://visitseattle.org/events/mother/', 'https://visitseattle.org/events/barber-violin-concerto/', 'https://visitseattle.org/events/seattle-sounders-fc-vs-vancouver-whitecaps-fc/', 'https://visitseattle.org/events/seattle-storm-vs-indiana-fever/', 'https://visitseattle.org/events/the-barber-of-seville/', 'https://visitseattle.org/events/seattle-storm-vs-washington-mystics-2/', 'https://visitseattle.org/events/seattle-sounders-fc-vs-real-salt-lake/', 'https://visitseattle.org/events/unriveled/', 'https://visitseattle.org/events/page/35/?frm=events&s', 'https://visitseattle.org/events/seattle-storm-vs-phoenix-mercury-2/', 'https://visitseattle.org/events/george-balenchines-coppelia/', 'https://visitseattle.org/events/jan-lisiecki-plays-prokofiev/', 'https://visitseattle.org/events/seattle-storm-vs-los-angeles-sparks-2/', 'https://visitseattle.org/events/beethoven-symphony-no-5/', 'https://visitseattle.org/events/elizabeth-malaska-all-be-your-mirror/', 'https://visitseattle.org/events/joshua-bell-plays-elements-concerto/', 'https://visitseattle.org/events/seattle-sounders-fc-vs-minnesota-united-fc/', 'https://visitseattle.org/events/together-again-again/', 'https://visitseattle.org/events/page/36/?frm=events&s', 'https://visitseattle.org/events/2024-kpmg-womens-pga-championship/', 'https://visitseattle.org/events/lip-sync-for-our-rights/', 'https://visitseattle.org/events/seattle-storm-vs-connecticut-sun/', 'https://visitseattle.org/events/seattle-storm-vs-indiana-fever-2/', 'https://visitseattle.org/events/company/', 'https://visitseattle.org/events/seattle-storm-vs-dallas-wings/', 'https://visitseattle.org/events/sounders-fc-vs-chicago-fire-fc/', 'https://visitseattle.org/events/2024-university-of-washington-mfa-mdes-thesis-exhibition/', 'https://visitseattle.org/events/spring-awakening/', 'https://visitseattle.org/events/page/37/?frm=events&s', 'https://visitseattle.org/events/girl-from-the-north-country/', 'https://visitseattle.org/events/seattle-storm-vs-dallas-wings-2/', 'https://visitseattle.org/events/seattle-storm-vs-chicago-sky-2/', 'https://visitseattle.org/events/anida-yoeu-ali-hybrid-skin-mythical-presence/', 'https://visitseattle.org/events/seattle-storm-vs-chicago-sky/', 'https://visitseattle.org/events/seattle-storm-vs-las-vegas-aces/', 'https://visitseattle.org/events/seattle-storm-vs-minnesota-lynx-2/', 'https://visitseattle.org/events/seattle-storm-vs-atlanta-dream-2/', 'https://visitseattle.org/events/seattle-sounders-fc-vs-los-angeles-fc/', 'https://visitseattle.org/events/page/38/?frm=events&s', 'https://visitseattle.org/events/nordic-utopia-african-americans-in-the-20th-century/', 'https://visitseattle.org/events/clue/', 'https://visitseattle.org/events/be-water-my-friend-the-teachings-of-bruce-lee/', 'https://visitseattle.org/events/olivia-rodrigo/', 'https://visitseattle.org/events/seattle-storm-vs-washington-mystics/', 'https://visitseattle.org/events/seattle-storm-vs-atlanta-dream/', 'https://visitseattle.org/events/seattle-storm-vs-new-york-liberty/', 'https://visitseattle.org/events/hidden-worlds-the-films-of-laika/', 'https://visitseattle.org/events/poke-in-the-eye-art-of-the-west-coast-counterculture/', 'https://visitseattle.org/events/page/39/?frm=events&s', 'https://visitseattle.org/events/chicago-and-earth-wind-fire/', 'https://visitseattle.org/events/seattle-storm-vs-phoenix-mercury/', 'https://visitseattle.org/events/sound-check-the-music-we-make/', 'https://visitseattle.org/events/seattle-sounders-fc-vs-sporting-kansas-city/', 'https://visitseattle.org/events/seattle-storm-vs-los-angeles-sparks/', 'https://visitseattle.org/events/seattle-storm-vs-las-vegas-aces-2/', 'https://visitseattle.org/events/seattle-sounders-fc-vs-san-jose-earthquakes/', 'https://visitseattle.org/events/seatle-sounders-fc-vs-houston-dynamo/', 'https://visitseattle.org/events/raul-de-nieves/', 'https://visitseattle.org/events/page/40/?frm=events&s', 'https://visitseattle.org/events/seattle-sounders-fc-vs-portland-timbers/', 'https://visitseattle.org/events/sebastian-maniscalco/', 'https://visitseattle.org/events/frye-salon/', 'https://visitseattle.org/events/on-native-land-landscapes-from-the-haub-family-collection/', 'https://visitseattle.org/events/joyce-j-scott-walk-a-mile-in-my-dreams/', 'https://visitseattle.org/events/washi-transformed-new-expressions-in-japanese-paper/', 'https://visitseattle.org/events/explore-the-market/', 'https://visitseattle.org/events/olympic-sculpture-park/', 'https://visitseattle.org/events/infinite-worlds-of-science-fiction/', 'https://visitseattle.org/events/page/41/?frm=events&s', 'https://visitseattle.org/events/wild-blue-angel-hendrix-abroad-1966-70/', 'https://visitseattle.org/events/john-grade-middle-fork/', 'https://visitseattle.org/events/scared-to-death-the-thrill-of-horror-film/', 'https://visitseattle.org/events/nirvana-taking-punk-to-the-masses/', 'https://visitseattle.org/events/vietnam-divided-war-above-southeast-asia/', 'https://visitseattle.org/events/science-fiction-and-fantasy-hall-of-fame/', 'https://visitseattle.org/events/cambodian-cultural-museum-and-killing-fields-memorial/', 'https://visitseattle.org/events/honoring-our-journey/', 'https://visitseattle.org/events/spotlight-on-dale-chihuly-works-from-museum-of-glass-permanent-collection/', 'https://visitseattle.org/events/page/42/?frm=events&s', 'https://visitseattle.org/events/great-hall-of-washington-history/', 'https://visitseattle.org/events/humboldt-penguin-exhibit/', 'https://visitseattle.org/events/giant-pacific-octopus/', 'https://visitseattle.org/events/meet-our-marine-mammals/', 'https://visitseattle.org/events/window-on-washington-waters/', 'https://visitseattle.org/events/guitar-gallery/', 'https://visitseattle.org/events/nordic-journeys/', 'https://visitseattle.org/events/bairds-beaked-whale/', 'https://visitseattle.org/events/amazing-life/', 'https://visitseattle.org/events/page/43/?frm=events&s']\n"
     ]
    }
   ],
   "source": [
    "import requests\n",
    "from bs4 import BeautifulSoup\n",
    "\n",
    "def scrape_event_links():\n",
    "    event_links = []\n",
    "    base_url = \"https://visitseattle.org/events/\"\n",
    "    page = 1\n",
    "    max_pages = 41\n",
    "\n",
    "    while page <= max_pages:\n",
    "        response = requests.get(f\"{base_url}page/{page}/\")\n",
    "        if response.status_code != 200:\n",
    "            break\n",
    "\n",
    "        soup = BeautifulSoup(response.content, 'html.parser')\n",
    "        for a_tag in soup.find_all('a', href=True):\n",
    "            if '/events/' in a_tag['href'] and a_tag['href'] not in event_links:\n",
    "                event_links.append(a_tag['href'])\n",
    "\n",
    "        page += 1\n",
    "\n",
    "    return event_links\n",
    "\n",
    "event_links = scrape_event_links()\n",
    "\n",
    "print(event_links)\n"
   ]
  },
  {
   "cell_type": "code",
   "execution_count": 13,
   "metadata": {},
   "outputs": [],
   "source": [
    "def scrape_event_details(url):\n",
    "    response = requests.get(url)\n",
    "    if response.status_code != 200:\n",
    "        return None\n",
    "\n",
    "    soup = BeautifulSoup(response.content, 'html.parser')\n",
    "\n",
    "    # Using CSS selectors with select_one\n",
    "    name_element = soup.select_one('#body > div.global-wrapper > div.container-event-detail.padding-top-bottom > div:nth-child(1) > div.medium-6.columns.event-top > h1')\n",
    "    date_element = soup.select_one('#body > div.global-wrapper > div.container-event-detail.padding-top-bottom > div:nth-child(1) > div.medium-6.columns.event-top > h4')\n",
    "    location_element = soup.select_one('#body > div.global-wrapper > div.container-event-detail.padding-top-bottom > div:nth-child(1) > div.medium-6.columns.event-top > h4 > span:nth-child(2)')\n",
    "    type_element = soup.select_one('#body > div.global-wrapper > div.container-event-detail.padding-top-bottom > div:nth-child(1) > div.medium-6.columns.event-top > h4 > span:nth-child(2)')\n",
    "    region_element = soup.select_one('#body > div.global-wrapper > div.container-event-detail.padding-top-bottom > div:nth-child(1) > div.medium-6.columns.event-top > h4 > span:nth-child(2)')\n",
    "\n",
    "    name = name_element.get_text().strip() if name_element else 'Not Available'\n",
    "    date = date_element.get_text().strip() if date_element else 'Not Available'\n",
    "    location = location_element.get_text().strip() if location_element else 'Not Available'\n",
    "    event_type = type_element.get_text().strip() if type_element else 'Not Available'\n",
    "    region = region_element.get_text().strip() if region_element else 'Not Available'\n",
    "\n",
    "    if 'Not Available' in [name, date, location, event_type, region]:\n",
    "        return None\n",
    "\n",
    "    return {\n",
    "        'Name': name,\n",
    "        'Date': date,\n",
    "        'Location': location,\n",
    "        'Type': event_type,\n",
    "        'Region': region\n",
    "    }\n",
    "\n",
    "events_data = []\n",
    "for url in event_links:\n",
    "    event_detail = scrape_event_details(url)\n",
    "    if event_detail:\n",
    "        events_data.append(event_detail)\n",
    "\n",
    "# Write to CSV\n",
    "with open('events.csv', mode='w', newline='', encoding='utf-8') as file:\n",
    "    writer = csv.DictWriter(file, fieldnames=['Name', 'Date', 'Location', 'Type', 'Region'])\n",
    "    writer.writeheader()\n",
    "    for event in events_data:\n",
    "        writer.writerow(event)\n"
   ]
  },
  {
   "cell_type": "code",
   "execution_count": 22,
   "metadata": {},
   "outputs": [],
   "source": [
    "def get_lat_lon(location_name):\n",
    "    base_url = \"https://nominatim.openstreetmap.org/search.php\"\n",
    "    query_params = {\n",
    "        \"q\": location_name,\n",
    "        \"format\": \"jsonv2\"\n",
    "    }\n",
    "    res = requests.get(base_url, params=query_params)\n",
    "    location_data = res.json()\n",
    "    \n",
    "    if location_data:\n",
    "        latitude = location_data[0]['lat']\n",
    "        longitude = location_data[0]['lon']\n",
    "        return latitude, longitude\n",
    "    else:\n",
    "        return None, None\n"
   ]
  },
  {
   "cell_type": "code",
   "execution_count": 23,
   "metadata": {},
   "outputs": [],
   "source": [
    "def get_weather_info(lat, lon):\n",
    "    weather_url = f\"https://api.weather.gov/points/{lat},{lon}\"\n",
    "    res = requests.get(weather_url)\n",
    "    if res.status_code != 200:\n",
    "        return \"Weather data not available\"\n",
    "\n",
    "    point_dict = res.json()\n",
    "    forecast_url = point_dict['properties']['forecast']\n",
    "    forecast_res = requests.get(forecast_url)\n",
    "    forecast_data = forecast_res.json()\n",
    "\n",
    "    weather_info = forecast_data['properties']['periods'][0]['detailedForecast']\n",
    "    return weather_info\n"
   ]
  },
  {
   "cell_type": "code",
   "execution_count": 27,
   "metadata": {},
   "outputs": [
    {
     "name": "stdout",
     "output_type": "stream",
     "text": [
      "[{'Name': 'Steinunn Porarinsdottir: Wayfinders', 'Date': 'Now through 1/28/2024 |  National Nordic Museum', 'Location': 'National Nordic Museum', 'Type': 'National Nordic Museum', 'Region': 'National Nordic Museum'}, {'Name': 'Hanako O’Leary: Izanami', 'Date': 'Now through 1/28/2024 |  Frye Art Museum', 'Location': 'Frye Art Museum', 'Type': 'Frye Art Museum', 'Region': 'Frye Art Museum'}, {'Name': 'Gage Alumni Show', 'Date': 'Now through 1/28/2024 |  Fountainhead Gallery', 'Location': 'Fountainhead Gallery', 'Type': 'Fountainhead Gallery', 'Region': 'Fountainhead Gallery'}, {'Name': 'Genre Box', 'Date': 'Now through 1/28/2024 |  Market Theatre', 'Location': 'Market Theatre', 'Type': 'Market Theatre', 'Region': 'Market Theatre'}, {'Name': 'Bohemia', 'Date': 'Now through 1/28/2024 |  The Triple Door', 'Location': 'The Triple Door', 'Type': 'The Triple Door', 'Region': 'The Triple Door'}]\n"
     ]
    }
   ],
   "source": [
    "events_data = []\n",
    "for url in event_links:\n",
    "    event_detail = scrape_event_details(url)\n",
    "    if event_detail is not None:\n",
    "        events_data.append(event_detail)\n",
    "\n",
    "print(events_data[:5])\n",
    "\n",
    "# Write to CSV\n",
    "with open('enhanced_events.csv', mode='w', newline='', encoding='utf-8') as file:\n",
    "    writer = csv.DictWriter(file, fieldnames=['Name', 'Date', 'Location', 'Type', 'Region', 'Latitude', 'Longitude', 'Weather'])\n",
    "    writer.writeheader()\n",
    "\n",
    "    for event in events_data:\n",
    "        lat, lon = get_lat_lon(event['Location'])\n",
    "        weather_info = get_weather_info(lat, lon) if lat and lon else \"Weather data not available\"\n",
    "\n",
    "        event['Latitude'] = lat if lat else \"Not Available\"\n",
    "        event['Longitude'] = lon if lon else \"Not Available\"\n",
    "        event['Weather'] = weather_info\n",
    "\n",
    "        writer.writerow(event)"
   ]
  }
 ],
 "metadata": {
  "kernelspec": {
   "display_name": "Python 3",
   "language": "python",
   "name": "python3"
  },
  "language_info": {
   "codemirror_mode": {
    "name": "ipython",
    "version": 3
   },
   "file_extension": ".py",
   "mimetype": "text/x-python",
   "name": "python",
   "nbconvert_exporter": "python",
   "pygments_lexer": "ipython3",
   "version": "3.12.1"
  }
 },
 "nbformat": 4,
 "nbformat_minor": 2
}
